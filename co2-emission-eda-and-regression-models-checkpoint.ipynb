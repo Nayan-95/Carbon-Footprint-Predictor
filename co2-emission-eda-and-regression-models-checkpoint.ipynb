{
 "cells": [
  {
   "cell_type": "code",
   "execution_count": 1,
   "id": "extensive-stations",
   "metadata": {
    "_cell_guid": "b1076dfc-b9ad-4769-8c92-a6c4dae69d19",
    "_uuid": "8f2839f25d086af736a60e9eeb907d3b93b6e0e5",
    "execution": {
     "iopub.execute_input": "2021-07-07T10:41:22.909886Z",
     "iopub.status.busy": "2021-07-07T10:41:22.909128Z",
     "iopub.status.idle": "2021-07-07T10:41:24.137718Z",
     "shell.execute_reply": "2021-07-07T10:41:24.137109Z",
     "shell.execute_reply.started": "2021-07-07T10:39:45.144535Z"
    },
    "papermill": {
     "duration": 1.283108,
     "end_time": "2021-07-07T10:41:24.137873",
     "exception": false,
     "start_time": "2021-07-07T10:41:22.854765",
     "status": "completed"
    },
    "tags": []
   },
   "outputs": [],
   "source": [
    "import numpy as np\n",
    "import pandas as pd\n",
    "import matplotlib.pyplot as plt\n",
    "import seaborn as sns\n",
    "\n",
    "from sklearn.preprocessing import MinMaxScaler\n",
    "from sklearn.model_selection import train_test_split\n",
    "from sklearn.model_selection import cross_val_score\n",
    "\n",
    "from sklearn.linear_model import LinearRegression\n",
    "from sklearn.linear_model import Ridge\n",
    "from sklearn.linear_model import Lasso\n",
    "from sklearn.ensemble import RandomForestRegressor\n",
    "# Input data files are available in the read-only \"../input/\" directory\n",
    "# For example, running this (by clicking run or pressing Shift+Enter) will list all files under the input directory\n",
    "\n",
    "import os\n",
    "for dirname, _, filenames in os.walk('/kaggle/input'):\n",
    "    for filename in filenames:\n",
    "        print(os.path.join(dirname, filename))\n"
   ]
  },
  {
   "cell_type": "code",
   "execution_count": 2,
   "id": "sacred-garden",
   "metadata": {
    "execution": {
     "iopub.execute_input": "2021-07-07T10:41:24.233078Z",
     "iopub.status.busy": "2021-07-07T10:41:24.232388Z",
     "iopub.status.idle": "2021-07-07T10:41:24.293276Z",
     "shell.execute_reply": "2021-07-07T10:41:24.294252Z",
     "shell.execute_reply.started": "2021-07-07T10:39:45.161087Z"
    },
    "papermill": {
     "duration": 0.112045,
     "end_time": "2021-07-07T10:41:24.294497",
     "exception": false,
     "start_time": "2021-07-07T10:41:24.182452",
     "status": "completed"
    },
    "tags": []
   },
   "outputs": [
    {
     "name": "stdout",
     "output_type": "stream",
     "text": [
      "(7385, 12)\n"
     ]
    },
    {
     "data": {
      "text/html": [
       "<div>\n",
       "<style scoped>\n",
       "    .dataframe tbody tr th:only-of-type {\n",
       "        vertical-align: middle;\n",
       "    }\n",
       "\n",
       "    .dataframe tbody tr th {\n",
       "        vertical-align: top;\n",
       "    }\n",
       "\n",
       "    .dataframe thead th {\n",
       "        text-align: right;\n",
       "    }\n",
       "</style>\n",
       "<table border=\"1\" class=\"dataframe\">\n",
       "  <thead>\n",
       "    <tr style=\"text-align: right;\">\n",
       "      <th></th>\n",
       "      <th>Make</th>\n",
       "      <th>Model</th>\n",
       "      <th>Vehicle Class</th>\n",
       "      <th>Engine Size(L)</th>\n",
       "      <th>Cylinders</th>\n",
       "      <th>Transmission</th>\n",
       "      <th>Fuel Type</th>\n",
       "      <th>Fuel Consumption City (L/100 km)</th>\n",
       "      <th>Fuel Consumption Hwy (L/100 km)</th>\n",
       "      <th>Fuel Consumption Comb (L/100 km)</th>\n",
       "      <th>Fuel Consumption Comb (mpg)</th>\n",
       "      <th>CO2 Emissions(g/km)</th>\n",
       "    </tr>\n",
       "  </thead>\n",
       "  <tbody>\n",
       "    <tr>\n",
       "      <th>0</th>\n",
       "      <td>ACURA</td>\n",
       "      <td>ILX</td>\n",
       "      <td>COMPACT</td>\n",
       "      <td>2.0</td>\n",
       "      <td>4</td>\n",
       "      <td>AS5</td>\n",
       "      <td>Z</td>\n",
       "      <td>9.9</td>\n",
       "      <td>6.7</td>\n",
       "      <td>8.5</td>\n",
       "      <td>33</td>\n",
       "      <td>196</td>\n",
       "    </tr>\n",
       "    <tr>\n",
       "      <th>1</th>\n",
       "      <td>ACURA</td>\n",
       "      <td>ILX</td>\n",
       "      <td>COMPACT</td>\n",
       "      <td>2.4</td>\n",
       "      <td>4</td>\n",
       "      <td>M6</td>\n",
       "      <td>Z</td>\n",
       "      <td>11.2</td>\n",
       "      <td>7.7</td>\n",
       "      <td>9.6</td>\n",
       "      <td>29</td>\n",
       "      <td>221</td>\n",
       "    </tr>\n",
       "    <tr>\n",
       "      <th>2</th>\n",
       "      <td>ACURA</td>\n",
       "      <td>ILX HYBRID</td>\n",
       "      <td>COMPACT</td>\n",
       "      <td>1.5</td>\n",
       "      <td>4</td>\n",
       "      <td>AV7</td>\n",
       "      <td>Z</td>\n",
       "      <td>6.0</td>\n",
       "      <td>5.8</td>\n",
       "      <td>5.9</td>\n",
       "      <td>48</td>\n",
       "      <td>136</td>\n",
       "    </tr>\n",
       "    <tr>\n",
       "      <th>3</th>\n",
       "      <td>ACURA</td>\n",
       "      <td>MDX 4WD</td>\n",
       "      <td>SUV - SMALL</td>\n",
       "      <td>3.5</td>\n",
       "      <td>6</td>\n",
       "      <td>AS6</td>\n",
       "      <td>Z</td>\n",
       "      <td>12.7</td>\n",
       "      <td>9.1</td>\n",
       "      <td>11.1</td>\n",
       "      <td>25</td>\n",
       "      <td>255</td>\n",
       "    </tr>\n",
       "    <tr>\n",
       "      <th>4</th>\n",
       "      <td>ACURA</td>\n",
       "      <td>RDX AWD</td>\n",
       "      <td>SUV - SMALL</td>\n",
       "      <td>3.5</td>\n",
       "      <td>6</td>\n",
       "      <td>AS6</td>\n",
       "      <td>Z</td>\n",
       "      <td>12.1</td>\n",
       "      <td>8.7</td>\n",
       "      <td>10.6</td>\n",
       "      <td>27</td>\n",
       "      <td>244</td>\n",
       "    </tr>\n",
       "  </tbody>\n",
       "</table>\n",
       "</div>"
      ],
      "text/plain": [
       "    Make       Model Vehicle Class  Engine Size(L)  Cylinders Transmission  \\\n",
       "0  ACURA         ILX       COMPACT             2.0          4          AS5   \n",
       "1  ACURA         ILX       COMPACT             2.4          4           M6   \n",
       "2  ACURA  ILX HYBRID       COMPACT             1.5          4          AV7   \n",
       "3  ACURA     MDX 4WD   SUV - SMALL             3.5          6          AS6   \n",
       "4  ACURA     RDX AWD   SUV - SMALL             3.5          6          AS6   \n",
       "\n",
       "  Fuel Type  Fuel Consumption City (L/100 km)  \\\n",
       "0         Z                               9.9   \n",
       "1         Z                              11.2   \n",
       "2         Z                               6.0   \n",
       "3         Z                              12.7   \n",
       "4         Z                              12.1   \n",
       "\n",
       "   Fuel Consumption Hwy (L/100 km)  Fuel Consumption Comb (L/100 km)  \\\n",
       "0                              6.7                               8.5   \n",
       "1                              7.7                               9.6   \n",
       "2                              5.8                               5.9   \n",
       "3                              9.1                              11.1   \n",
       "4                              8.7                              10.6   \n",
       "\n",
       "   Fuel Consumption Comb (mpg)  CO2 Emissions(g/km)  \n",
       "0                           33                  196  \n",
       "1                           29                  221  \n",
       "2                           48                  136  \n",
       "3                           25                  255  \n",
       "4                           27                  244  "
      ]
     },
     "execution_count": 2,
     "metadata": {},
     "output_type": "execute_result"
    }
   ],
   "source": [
    "df = pd.read_csv('/kaggle/input/co2-emission-by-vehicles/CO2 Emissions_Canada.csv')\n",
    "\n",
    "print(df.shape)\n",
    "df.head()"
   ]
  },
  {
   "cell_type": "markdown",
   "id": "norman-message",
   "metadata": {
    "papermill": {
     "duration": 0.044118,
     "end_time": "2021-07-07T10:41:24.385266",
     "exception": false,
     "start_time": "2021-07-07T10:41:24.341148",
     "status": "completed"
    },
    "tags": []
   },
   "source": []
  },
  {
   "cell_type": "markdown",
   "id": "sized-castle",
   "metadata": {
    "papermill": {
     "duration": 0.045031,
     "end_time": "2021-07-07T10:41:24.474673",
     "exception": false,
     "start_time": "2021-07-07T10:41:24.429642",
     "status": "completed"
    },
    "tags": []
   },
   "source": [
    "# Data Analysis"
   ]
  },
  {
   "cell_type": "markdown",
   "id": "exotic-spray",
   "metadata": {
    "papermill": {
     "duration": 0.044354,
     "end_time": "2021-07-07T10:41:24.564477",
     "exception": false,
     "start_time": "2021-07-07T10:41:24.520123",
     "status": "completed"
    },
    "tags": []
   },
   "source": [
    "## Missing Values"
   ]
  },
  {
   "cell_type": "code",
   "execution_count": 3,
   "id": "designing-verification",
   "metadata": {
    "execution": {
     "iopub.execute_input": "2021-07-07T10:41:24.665439Z",
     "iopub.status.busy": "2021-07-07T10:41:24.663231Z",
     "iopub.status.idle": "2021-07-07T10:41:24.669842Z",
     "shell.execute_reply": "2021-07-07T10:41:24.669314Z",
     "shell.execute_reply.started": "2021-07-07T10:39:45.198546Z"
    },
    "papermill": {
     "duration": 0.060449,
     "end_time": "2021-07-07T10:41:24.669960",
     "exception": false,
     "start_time": "2021-07-07T10:41:24.609511",
     "status": "completed"
    },
    "tags": []
   },
   "outputs": [
    {
     "data": {
      "text/plain": [
       "Make                                0\n",
       "Model                               0\n",
       "Vehicle Class                       0\n",
       "Engine Size(L)                      0\n",
       "Cylinders                           0\n",
       "Transmission                        0\n",
       "Fuel Type                           0\n",
       "Fuel Consumption City (L/100 km)    0\n",
       "Fuel Consumption Hwy (L/100 km)     0\n",
       "Fuel Consumption Comb (L/100 km)    0\n",
       "Fuel Consumption Comb (mpg)         0\n",
       "CO2 Emissions(g/km)                 0\n",
       "dtype: int64"
      ]
     },
     "execution_count": 3,
     "metadata": {},
     "output_type": "execute_result"
    }
   ],
   "source": [
    "df.isnull().sum()"
   ]
  },
  {
   "cell_type": "markdown",
   "id": "hungry-kitty",
   "metadata": {
    "papermill": {
     "duration": 0.044822,
     "end_time": "2021-07-07T10:41:24.759229",
     "exception": false,
     "start_time": "2021-07-07T10:41:24.714407",
     "status": "completed"
    },
    "tags": []
   },
   "source": [
    "## Numerical Features"
   ]
  },
  {
   "cell_type": "code",
   "execution_count": 4,
   "id": "animated-optimum",
   "metadata": {
    "execution": {
     "iopub.execute_input": "2021-07-07T10:41:24.867576Z",
     "iopub.status.busy": "2021-07-07T10:41:24.866612Z",
     "iopub.status.idle": "2021-07-07T10:41:24.870874Z",
     "shell.execute_reply": "2021-07-07T10:41:24.870377Z",
     "shell.execute_reply.started": "2021-07-07T10:39:45.212833Z"
    },
    "papermill": {
     "duration": 0.066217,
     "end_time": "2021-07-07T10:41:24.870999",
     "exception": false,
     "start_time": "2021-07-07T10:41:24.804782",
     "status": "completed"
    },
    "tags": []
   },
   "outputs": [
    {
     "data": {
      "text/html": [
       "<div>\n",
       "<style scoped>\n",
       "    .dataframe tbody tr th:only-of-type {\n",
       "        vertical-align: middle;\n",
       "    }\n",
       "\n",
       "    .dataframe tbody tr th {\n",
       "        vertical-align: top;\n",
       "    }\n",
       "\n",
       "    .dataframe thead th {\n",
       "        text-align: right;\n",
       "    }\n",
       "</style>\n",
       "<table border=\"1\" class=\"dataframe\">\n",
       "  <thead>\n",
       "    <tr style=\"text-align: right;\">\n",
       "      <th></th>\n",
       "      <th>Engine Size(L)</th>\n",
       "      <th>Cylinders</th>\n",
       "      <th>Fuel Consumption City (L/100 km)</th>\n",
       "      <th>Fuel Consumption Hwy (L/100 km)</th>\n",
       "      <th>Fuel Consumption Comb (L/100 km)</th>\n",
       "      <th>Fuel Consumption Comb (mpg)</th>\n",
       "      <th>CO2 Emissions(g/km)</th>\n",
       "    </tr>\n",
       "  </thead>\n",
       "  <tbody>\n",
       "    <tr>\n",
       "      <th>0</th>\n",
       "      <td>2.0</td>\n",
       "      <td>4</td>\n",
       "      <td>9.9</td>\n",
       "      <td>6.7</td>\n",
       "      <td>8.5</td>\n",
       "      <td>33</td>\n",
       "      <td>196</td>\n",
       "    </tr>\n",
       "    <tr>\n",
       "      <th>1</th>\n",
       "      <td>2.4</td>\n",
       "      <td>4</td>\n",
       "      <td>11.2</td>\n",
       "      <td>7.7</td>\n",
       "      <td>9.6</td>\n",
       "      <td>29</td>\n",
       "      <td>221</td>\n",
       "    </tr>\n",
       "    <tr>\n",
       "      <th>2</th>\n",
       "      <td>1.5</td>\n",
       "      <td>4</td>\n",
       "      <td>6.0</td>\n",
       "      <td>5.8</td>\n",
       "      <td>5.9</td>\n",
       "      <td>48</td>\n",
       "      <td>136</td>\n",
       "    </tr>\n",
       "    <tr>\n",
       "      <th>3</th>\n",
       "      <td>3.5</td>\n",
       "      <td>6</td>\n",
       "      <td>12.7</td>\n",
       "      <td>9.1</td>\n",
       "      <td>11.1</td>\n",
       "      <td>25</td>\n",
       "      <td>255</td>\n",
       "    </tr>\n",
       "    <tr>\n",
       "      <th>4</th>\n",
       "      <td>3.5</td>\n",
       "      <td>6</td>\n",
       "      <td>12.1</td>\n",
       "      <td>8.7</td>\n",
       "      <td>10.6</td>\n",
       "      <td>27</td>\n",
       "      <td>244</td>\n",
       "    </tr>\n",
       "  </tbody>\n",
       "</table>\n",
       "</div>"
      ],
      "text/plain": [
       "   Engine Size(L)  Cylinders  Fuel Consumption City (L/100 km)  \\\n",
       "0             2.0          4                               9.9   \n",
       "1             2.4          4                              11.2   \n",
       "2             1.5          4                               6.0   \n",
       "3             3.5          6                              12.7   \n",
       "4             3.5          6                              12.1   \n",
       "\n",
       "   Fuel Consumption Hwy (L/100 km)  Fuel Consumption Comb (L/100 km)  \\\n",
       "0                              6.7                               8.5   \n",
       "1                              7.7                               9.6   \n",
       "2                              5.8                               5.9   \n",
       "3                              9.1                              11.1   \n",
       "4                              8.7                              10.6   \n",
       "\n",
       "   Fuel Consumption Comb (mpg)  CO2 Emissions(g/km)  \n",
       "0                           33                  196  \n",
       "1                           29                  221  \n",
       "2                           48                  136  \n",
       "3                           25                  255  \n",
       "4                           27                  244  "
      ]
     },
     "execution_count": 4,
     "metadata": {},
     "output_type": "execute_result"
    }
   ],
   "source": [
    "num_features = [feature for feature in df.columns if df[feature].dtype != 'O']\n",
    "df[num_features].head()"
   ]
  },
  {
   "cell_type": "markdown",
   "id": "confirmed-suite",
   "metadata": {
    "papermill": {
     "duration": 0.045422,
     "end_time": "2021-07-07T10:41:24.961646",
     "exception": false,
     "start_time": "2021-07-07T10:41:24.916224",
     "status": "completed"
    },
    "tags": []
   },
   "source": [
    "### Discrete features"
   ]
  },
  {
   "cell_type": "code",
   "execution_count": 5,
   "id": "limiting-object",
   "metadata": {
    "execution": {
     "iopub.execute_input": "2021-07-07T10:41:25.061641Z",
     "iopub.status.busy": "2021-07-07T10:41:25.060925Z",
     "iopub.status.idle": "2021-07-07T10:41:25.065666Z",
     "shell.execute_reply": "2021-07-07T10:41:25.066208Z",
     "shell.execute_reply.started": "2021-07-07T10:39:45.231287Z"
    },
    "papermill": {
     "duration": 0.058618,
     "end_time": "2021-07-07T10:41:25.066368",
     "exception": false,
     "start_time": "2021-07-07T10:41:25.007750",
     "status": "completed"
    },
    "tags": []
   },
   "outputs": [
    {
     "name": "stdout",
     "output_type": "stream",
     "text": [
      "['Cylinders']\n"
     ]
    }
   ],
   "source": [
    "discrete_features = [feature for feature in num_features if len(df[feature].unique()) < 25]\n",
    "print(discrete_features)"
   ]
  },
  {
   "cell_type": "code",
   "execution_count": 6,
   "id": "thirty-glenn",
   "metadata": {
    "execution": {
     "iopub.execute_input": "2021-07-07T10:41:25.162287Z",
     "iopub.status.busy": "2021-07-07T10:41:25.161630Z",
     "iopub.status.idle": "2021-07-07T10:41:25.376080Z",
     "shell.execute_reply": "2021-07-07T10:41:25.376623Z",
     "shell.execute_reply.started": "2021-07-07T10:39:45.243476Z"
    },
    "papermill": {
     "duration": 0.265418,
     "end_time": "2021-07-07T10:41:25.376800",
     "exception": false,
     "start_time": "2021-07-07T10:41:25.111382",
     "status": "completed"
    },
    "tags": []
   },
   "outputs": [
    {
     "name": "stdout",
     "output_type": "stream",
     "text": [
      "Cylinders\n",
      "3     0.012864\n",
      "4     0.436019\n",
      "5     0.003521\n",
      "6     0.331212\n",
      "8     0.189844\n",
      "10    0.005687\n",
      "12    0.020447\n",
      "16    0.000406\n",
      "Name: CO2 Emissions(g/km), dtype: float64\n",
      "4     3220\n",
      "6     2446\n",
      "8     1402\n",
      "12     151\n",
      "3       95\n",
      "10      42\n",
      "5       26\n",
      "16       3\n",
      "Name: Cylinders, dtype: int64\n"
     ]
    },
    {
     "data": {
      "image/png": "[encoded data removed]",
      "text/plain": [
       "<Figure size 432x288 with 1 Axes>"
      ]
     },
     "metadata": {
      "needs_background": "light"
     },
     "output_type": "display_data"
    }
   ],
   "source": [
    "for feature in discrete_features:\n",
    "    data = df.copy()\n",
    "    \n",
    "    #Fraction of total cars for each cylinder type\n",
    "    print(data.groupby(feature)['CO2 Emissions(g/km)'].count() / len(data))\n",
    "    \n",
    "    #Counts of each cylinder type\n",
    "    print(data[feature].value_counts()) \n",
    "    \n",
    "    data[feature].value_counts().plot.bar()\n",
    "    plt.show()"
   ]
  },
  {
   "cell_type": "code",
   "execution_count": 7,
   "id": "material-flower",
   "metadata": {
    "execution": {
     "iopub.execute_input": "2021-07-07T10:41:25.488784Z",
     "iopub.status.busy": "2021-07-07T10:41:25.487344Z",
     "iopub.status.idle": "2021-07-07T10:41:25.670563Z",
     "shell.execute_reply": "2021-07-07T10:41:25.670065Z",
     "shell.execute_reply.started": "2021-07-07T10:39:45.396567Z"
    },
    "papermill": {
     "duration": 0.242318,
     "end_time": "2021-07-07T10:41:25.670703",
     "exception": false,
     "start_time": "2021-07-07T10:41:25.428385",
     "status": "completed"
    },
    "tags": []
   },
   "outputs": [
    {
     "name": "stdout",
     "output_type": "stream",
     "text": [
      "Cylinders\n",
      "3     0.008978\n",
      "4     0.356458\n",
      "5     0.003311\n",
      "6     0.348213\n",
      "8     0.242903\n",
      "10    0.008200\n",
      "12    0.031091\n",
      "16    0.000846\n",
      "Name: CO2 Emissions(g/km), dtype: float64\n"
     ]
    },
    {
     "data": {
      "image/png": "[encoded data removed]",
      "text/plain": [
       "<Figure size 432x288 with 1 Axes>"
      ]
     },
     "metadata": {
      "needs_background": "light"
     },
     "output_type": "display_data"
    }
   ],
   "source": [
    "for feature in discrete_features:\n",
    "    data = df.copy()\n",
    "    \n",
    "    #Contribution of each cylinder type to CO2 Emission\n",
    "    print(data.groupby(feature)['CO2 Emissions(g/km)'].sum() / data['CO2 Emissions(g/km)'].sum())\n",
    "    data.groupby(feature)['CO2 Emissions(g/km)'].median().plot.bar()\n",
    "    plt.xlabel(feature)\n",
    "    plt.ylabel('Emission')\n",
    "    plt.show()"
   ]
  },
  {
   "cell_type": "markdown",
   "id": "heard-disposition",
   "metadata": {
    "papermill": {
     "duration": 0.048307,
     "end_time": "2021-07-07T10:41:25.778645",
     "exception": false,
     "start_time": "2021-07-07T10:41:25.730338",
     "status": "completed"
    },
    "tags": []
   },
   "source": [
    "##### Observation:\n",
    "1. Majority of the cars have 4 cylinders(43%), followed by 6 cylinders(33%) and 8 cylinders(18%)\n",
    "2. These cars account for 94.7% of total CO2 Emissions\n",
    "3. Emission increases as number of cylinders increase"
   ]
  },
  {
   "cell_type": "markdown",
   "id": "instructional-brain",
   "metadata": {
    "papermill": {
     "duration": 0.04664,
     "end_time": "2021-07-07T10:41:25.873514",
     "exception": false,
     "start_time": "2021-07-07T10:41:25.826874",
     "status": "completed"
    },
    "tags": []
   },
   "source": [
    "### Continuous Features"
   ]
  },
  {
   "cell_type": "code",
   "execution_count": 8,
   "id": "electric-crawford",
   "metadata": {
    "execution": {
     "iopub.execute_input": "2021-07-07T10:41:25.974495Z",
     "iopub.status.busy": "2021-07-07T10:41:25.973529Z",
     "iopub.status.idle": "2021-07-07T10:41:25.977134Z",
     "shell.execute_reply": "2021-07-07T10:41:25.977778Z",
     "shell.execute_reply.started": "2021-07-07T10:39:45.544503Z"
    },
    "papermill": {
     "duration": 0.056102,
     "end_time": "2021-07-07T10:41:25.977984",
     "exception": false,
     "start_time": "2021-07-07T10:41:25.921882",
     "status": "completed"
    },
    "tags": []
   },
   "outputs": [
    {
     "name": "stdout",
     "output_type": "stream",
     "text": [
      "['Engine Size(L)', 'Fuel Consumption City (L/100 km)', 'Fuel Consumption Hwy (L/100 km)', 'Fuel Consumption Comb (L/100 km)', 'Fuel Consumption Comb (mpg)', 'CO2 Emissions(g/km)']\n"
     ]
    }
   ],
   "source": [
    "continuous_features = [feature for feature in num_features if feature not in discrete_features]\n",
    "print(continuous_features)"
   ]
  },
  {
   "cell_type": "markdown",
   "id": "brutal-departure",
   "metadata": {
    "papermill": {
     "duration": 0.04739,
     "end_time": "2021-07-07T10:41:26.074761",
     "exception": false,
     "start_time": "2021-07-07T10:41:26.027371",
     "status": "completed"
    },
    "tags": []
   },
   "source": [
    "#### Distribution"
   ]
  },
  {
   "cell_type": "code",
   "execution_count": 9,
   "id": "balanced-command",
   "metadata": {
    "execution": {
     "iopub.execute_input": "2021-07-07T10:41:26.177533Z",
     "iopub.status.busy": "2021-07-07T10:41:26.176847Z",
     "iopub.status.idle": "2021-07-07T10:41:27.365562Z",
     "shell.execute_reply": "2021-07-07T10:41:27.364978Z",
     "shell.execute_reply.started": "2021-07-07T10:39:45.550963Z"
    },
    "papermill": {
     "duration": 1.240991,
     "end_time": "2021-07-07T10:41:27.365691",
     "exception": false,
     "start_time": "2021-07-07T10:41:26.124700",
     "status": "completed"
    },
    "tags": []
   },
   "outputs": [
    {
     "data": {
      "image/png": "[encoded data removed]",
      "text/plain": [
       "<Figure size 432x288 with 1 Axes>"
      ]
     },
     "metadata": {
      "needs_background": "light"
     },
     "output_type": "display_data"
    },
    {
     "data": {
      "image/png": "[encoded data removed]",
      "text/plain": [
       "<Figure size 432x288 with 1 Axes>"
      ]
     },
     "metadata": {
      "needs_background": "light"
     },
     "output_type": "display_data"
    },
    {
     "data": {
      "image/png": "[encoded data removed]",
      "text/plain": [
       "<Figure size 432x288 with 1 Axes>"
      ]
     },
     "metadata": {
      "needs_background": "light"
     },
     "output_type": "display_data"
    },
    {
     "data": {
      "image/png": "[encoded data removed]",
      "text/plain": [
       "<Figure size 432x288 with 1 Axes>"
      ]
     },
     "metadata": {
      "needs_background": "light"
     },
     "output_type": "display_data"
    },
    {
     "data": {
      "image/png": "[encoded data removed]",
      "text/plain": [
       "<Figure size 432x288 with 1 Axes>"
      ]
     },
     "metadata": {
      "needs_background": "light"
     },
     "output_type": "display_data"
    },
    {
     "data": {
      "image/png": "[encoded data removed]",
      "text/plain": [
       "<Figure size 432x288 with 1 Axes>"
      ]
     },
     "metadata": {
      "needs_background": "light"
     },
     "output_type": "display_data"
    }
   ],
   "source": [
    "for feature in continuous_features:\n",
    "    data = df.copy()\n",
    "    \n",
    "    data[feature].hist(bins = 25)\n",
    "    plt.xlabel(feature)\n",
    "    plt.ylabel('count')\n",
    "    plt.show()"
   ]
  },
  {
   "cell_type": "markdown",
   "id": "described-tolerance",
   "metadata": {
    "papermill": {
     "duration": 0.050884,
     "end_time": "2021-07-07T10:41:27.467287",
     "exception": false,
     "start_time": "2021-07-07T10:41:27.416403",
     "status": "completed"
    },
    "tags": []
   },
   "source": [
    "Features are slightly right skewed. Log transformation could be applied"
   ]
  },
  {
   "cell_type": "code",
   "execution_count": 10,
   "id": "complex-galaxy",
   "metadata": {
    "execution": {
     "iopub.execute_input": "2021-07-07T10:41:27.574726Z",
     "iopub.status.busy": "2021-07-07T10:41:27.574093Z",
     "iopub.status.idle": "2021-07-07T10:41:28.435186Z",
     "shell.execute_reply": "2021-07-07T10:41:28.435681Z",
     "shell.execute_reply.started": "2021-07-07T10:39:46.628767Z"
    },
    "papermill": {
     "duration": 0.918465,
     "end_time": "2021-07-07T10:41:28.435851",
     "exception": false,
     "start_time": "2021-07-07T10:41:27.517386",
     "status": "completed"
    },
    "tags": []
   },
   "outputs": [
    {
     "data": {
      "image/png": "[encoded data removed]",
      "text/plain": [
       "<Figure size 432x288 with 1 Axes>"
      ]
     },
     "metadata": {
      "needs_background": "light"
     },
     "output_type": "display_data"
    },
    {
     "data": {
      "image/png": "[encoded data removed]",
      "text/plain": [
       "<Figure size 432x288 with 1 Axes>"
      ]
     },
     "metadata": {
      "needs_background": "light"
     },
     "output_type": "display_data"
    },
    {
     "data": {
      "image/png": "[encoded data removed]",
      "text/plain": [
       "<Figure size 432x288 with 1 Axes>"
      ]
     },
     "metadata": {
      "needs_background": "light"
     },
     "output_type": "display_data"
    },
    {
     "data": {
      "image/png": "[encoded data removed]",
      "text/plain": [
       "<Figure size 432x288 with 1 Axes>"
      ]
     },
     "metadata": {
      "needs_background": "light"
     },
     "output_type": "display_data"
    },
    {
     "data": {
      "image/png": "[encoded data removed]",
      "text/plain": [
       "<Figure size 432x288 with 1 Axes>"
      ]
     },
     "metadata": {
      "needs_background": "light"
     },
     "output_type": "display_data"
    }
   ],
   "source": [
    "## Log transformation and relationship with target variable\n",
    "\n",
    "for feature in continuous_features:\n",
    "    if feature != 'CO2 Emissions(g/km)':\n",
    "        data = df.copy()\n",
    "        \n",
    "        data[feature] = np.log(data[feature])\n",
    "        \n",
    "        plt.scatter(data[feature], np.log(data['CO2 Emissions(g/km)']))\n",
    "        plt.xlabel(feature)\n",
    "        plt.ylabel('emission')\n",
    "        plt.show()"
   ]
  },
  {
   "cell_type": "markdown",
   "id": "collected-chemical",
   "metadata": {
    "papermill": {
     "duration": 0.058008,
     "end_time": "2021-07-07T10:41:28.550064",
     "exception": false,
     "start_time": "2021-07-07T10:41:28.492056",
     "status": "completed"
    },
    "tags": []
   },
   "source": [
    "##### Observation:\n",
    "1. Emission increases with increase in engine size\n",
    "2. Emission increases with increase in Fuel Consumption (City, Hwy, Comb (L/100km))\n",
    "3. Emission decreases with increase in Fuel Consumption Comb (mpg)"
   ]
  },
  {
   "cell_type": "markdown",
   "id": "brave-sector",
   "metadata": {
    "papermill": {
     "duration": 0.05595,
     "end_time": "2021-07-07T10:41:28.662542",
     "exception": false,
     "start_time": "2021-07-07T10:41:28.606592",
     "status": "completed"
    },
    "tags": []
   },
   "source": [
    "### Continuous Outliers"
   ]
  },
  {
   "cell_type": "code",
   "execution_count": 11,
   "id": "liked-highlight",
   "metadata": {
    "execution": {
     "iopub.execute_input": "2021-07-07T10:41:28.779387Z",
     "iopub.status.busy": "2021-07-07T10:41:28.778427Z",
     "iopub.status.idle": "2021-07-07T10:41:29.736670Z",
     "shell.execute_reply": "2021-07-07T10:41:29.737140Z",
     "shell.execute_reply.started": "2021-07-07T10:39:47.582873Z"
    },
    "papermill": {
     "duration": 1.017909,
     "end_time": "2021-07-07T10:41:29.737307",
     "exception": false,
     "start_time": "2021-07-07T10:41:28.719398",
     "status": "completed"
    },
    "tags": []
   },
   "outputs": [
    {
     "data": {
      "image/png": "[encoded data removed]",
      "text/plain": [
       "<Figure size 432x288 with 1 Axes>"
      ]
     },
     "metadata": {
      "needs_background": "light"
     },
     "output_type": "display_data"
    },
    {
     "data": {
      "image/png": "[encoded data removed]",
      "text/plain": [
       "<Figure size 432x288 with 1 Axes>"
      ]
     },
     "metadata": {
      "needs_background": "light"
     },
     "output_type": "display_data"
    },
    {
     "data": {
      "image/png": "[encoded data removed]",
      "text/plain": [
       "<Figure size 432x288 with 1 Axes>"
      ]
     },
     "metadata": {
      "needs_background": "light"
     },
     "output_type": "display_data"
    },
    {
     "data": {
      "image/png": "[encoded data removed]",
      "text/plain": [
       "<Figure size 432x288 with 1 Axes>"
      ]
     },
     "metadata": {
      "needs_background": "light"
     },
     "output_type": "display_data"
    },
    {
     "data": {
      "image/png": "[encoded data removed]",
      "text/plain": [
       "<Figure size 432x288 with 1 Axes>"
      ]
     },
     "metadata": {
      "needs_background": "light"
     },
     "output_type": "display_data"
    },
    {
     "data": {
      "image/png": "[encoded data removed]",
      "text/plain": [
       "<Figure size 432x288 with 1 Axes>"
      ]
     },
     "metadata": {
      "needs_background": "light"
     },
     "output_type": "display_data"
    }
   ],
   "source": [
    "for feature in continuous_features:\n",
    "    data = df.copy()\n",
    "    \n",
    "    data[feature] = np.log(data[feature])\n",
    "    data.boxplot(column = feature)\n",
    "    plt.ylabel('values')\n",
    "    plt.show()"
   ]
  },
  {
   "cell_type": "markdown",
   "id": "interested-marathon",
   "metadata": {
    "papermill": {
     "duration": 0.05895,
     "end_time": "2021-07-07T10:41:29.858379",
     "exception": false,
     "start_time": "2021-07-07T10:41:29.799429",
     "status": "completed"
    },
    "tags": []
   },
   "source": [
    "## Categorical Features"
   ]
  },
  {
   "cell_type": "code",
   "execution_count": 12,
   "id": "harmful-holder",
   "metadata": {
    "execution": {
     "iopub.execute_input": "2021-07-07T10:41:29.981541Z",
     "iopub.status.busy": "2021-07-07T10:41:29.980602Z",
     "iopub.status.idle": "2021-07-07T10:41:29.993725Z",
     "shell.execute_reply": "2021-07-07T10:41:29.994183Z",
     "shell.execute_reply.started": "2021-07-07T10:39:48.382030Z"
    },
    "papermill": {
     "duration": 0.077415,
     "end_time": "2021-07-07T10:41:29.994369",
     "exception": false,
     "start_time": "2021-07-07T10:41:29.916954",
     "status": "completed"
    },
    "tags": []
   },
   "outputs": [
    {
     "data": {
      "text/html": [
       "<div>\n",
       "<style scoped>\n",
       "    .dataframe tbody tr th:only-of-type {\n",
       "        vertical-align: middle;\n",
       "    }\n",
       "\n",
       "    .dataframe tbody tr th {\n",
       "        vertical-align: top;\n",
       "    }\n",
       "\n",
       "    .dataframe thead th {\n",
       "        text-align: right;\n",
       "    }\n",
       "</style>\n",
       "<table border=\"1\" class=\"dataframe\">\n",
       "  <thead>\n",
       "    <tr style=\"text-align: right;\">\n",
       "      <th></th>\n",
       "      <th>Make</th>\n",
       "      <th>Model</th>\n",
       "      <th>Vehicle Class</th>\n",
       "      <th>Transmission</th>\n",
       "      <th>Fuel Type</th>\n",
       "    </tr>\n",
       "  </thead>\n",
       "  <tbody>\n",
       "    <tr>\n",
       "      <th>0</th>\n",
       "      <td>ACURA</td>\n",
       "      <td>ILX</td>\n",
       "      <td>COMPACT</td>\n",
       "      <td>AS5</td>\n",
       "      <td>Z</td>\n",
       "    </tr>\n",
       "    <tr>\n",
       "      <th>1</th>\n",
       "      <td>ACURA</td>\n",
       "      <td>ILX</td>\n",
       "      <td>COMPACT</td>\n",
       "      <td>M6</td>\n",
       "      <td>Z</td>\n",
       "    </tr>\n",
       "    <tr>\n",
       "      <th>2</th>\n",
       "      <td>ACURA</td>\n",
       "      <td>ILX HYBRID</td>\n",
       "      <td>COMPACT</td>\n",
       "      <td>AV7</td>\n",
       "      <td>Z</td>\n",
       "    </tr>\n",
       "    <tr>\n",
       "      <th>3</th>\n",
       "      <td>ACURA</td>\n",
       "      <td>MDX 4WD</td>\n",
       "      <td>SUV - SMALL</td>\n",
       "      <td>AS6</td>\n",
       "      <td>Z</td>\n",
       "    </tr>\n",
       "    <tr>\n",
       "      <th>4</th>\n",
       "      <td>ACURA</td>\n",
       "      <td>RDX AWD</td>\n",
       "      <td>SUV - SMALL</td>\n",
       "      <td>AS6</td>\n",
       "      <td>Z</td>\n",
       "    </tr>\n",
       "  </tbody>\n",
       "</table>\n",
       "</div>"
      ],
      "text/plain": [
       "    Make       Model Vehicle Class Transmission Fuel Type\n",
       "0  ACURA         ILX       COMPACT          AS5         Z\n",
       "1  ACURA         ILX       COMPACT           M6         Z\n",
       "2  ACURA  ILX HYBRID       COMPACT          AV7         Z\n",
       "3  ACURA     MDX 4WD   SUV - SMALL          AS6         Z\n",
       "4  ACURA     RDX AWD   SUV - SMALL          AS6         Z"
      ]
     },
     "execution_count": 12,
     "metadata": {},
     "output_type": "execute_result"
    }
   ],
   "source": [
    "cat_features = [feature for feature in df.columns if feature not in num_features]\n",
    "df[cat_features].head()"
   ]
  },
  {
   "cell_type": "code",
   "execution_count": 13,
   "id": "collectible-arena",
   "metadata": {
    "execution": {
     "iopub.execute_input": "2021-07-07T10:41:30.120134Z",
     "iopub.status.busy": "2021-07-07T10:41:30.119177Z",
     "iopub.status.idle": "2021-07-07T10:41:30.129549Z",
     "shell.execute_reply": "2021-07-07T10:41:30.130263Z",
     "shell.execute_reply.started": "2021-07-07T10:39:48.398159Z"
    },
    "papermill": {
     "duration": 0.074762,
     "end_time": "2021-07-07T10:41:30.130477",
     "exception": false,
     "start_time": "2021-07-07T10:41:30.055715",
     "status": "completed"
    },
    "tags": []
   },
   "outputs": [
    {
     "name": "stdout",
     "output_type": "stream",
     "text": [
      "Make: 42 categories\n",
      "Model: 2053 categories\n",
      "Vehicle Class: 16 categories\n",
      "Transmission: 27 categories\n",
      "Fuel Type: 5 categories\n"
     ]
    }
   ],
   "source": [
    "for feature in cat_features:\n",
    "    print('{}: {} categories'.format(feature, len(df[feature].unique())))"
   ]
  },
  {
   "cell_type": "markdown",
   "id": "inside-olympus",
   "metadata": {
    "papermill": {
     "duration": 0.060729,
     "end_time": "2021-07-07T10:41:30.252743",
     "exception": false,
     "start_time": "2021-07-07T10:41:30.192014",
     "status": "completed"
    },
    "tags": []
   },
   "source": [
    "We can drop 'model' feature as 'make' will provide an overview on the specifications "
   ]
  },
  {
   "cell_type": "code",
   "execution_count": 14,
   "id": "increasing-february",
   "metadata": {
    "execution": {
     "iopub.execute_input": "2021-07-07T10:41:30.378900Z",
     "iopub.status.busy": "2021-07-07T10:41:30.378223Z",
     "iopub.status.idle": "2021-07-07T10:41:30.381112Z",
     "shell.execute_reply": "2021-07-07T10:41:30.380620Z",
     "shell.execute_reply.started": "2021-07-07T10:39:48.413886Z"
    },
    "papermill": {
     "duration": 0.068248,
     "end_time": "2021-07-07T10:41:30.381242",
     "exception": false,
     "start_time": "2021-07-07T10:41:30.312994",
     "status": "completed"
    },
    "tags": []
   },
   "outputs": [],
   "source": [
    "cat_features.remove('Model')"
   ]
  },
  {
   "cell_type": "code",
   "execution_count": 15,
   "id": "western-concrete",
   "metadata": {
    "execution": {
     "iopub.execute_input": "2021-07-07T10:41:30.510457Z",
     "iopub.status.busy": "2021-07-07T10:41:30.508389Z",
     "iopub.status.idle": "2021-07-07T10:41:31.519277Z",
     "shell.execute_reply": "2021-07-07T10:41:31.518735Z",
     "shell.execute_reply.started": "2021-07-07T10:39:48.421227Z"
    },
    "papermill": {
     "duration": 1.076808,
     "end_time": "2021-07-07T10:41:31.519422",
     "exception": false,
     "start_time": "2021-07-07T10:41:30.442614",
     "status": "completed"
    },
    "tags": []
   },
   "outputs": [
    {
     "data": {
      "image/png": "[encoded data removed]",
      "text/plain": [
       "<Figure size 432x288 with 1 Axes>"
      ]
     },
     "metadata": {
      "needs_background": "light"
     },
     "output_type": "display_data"
    },
    {
     "data": {
      "image/png": "[encoded data removed]",
      "text/plain": [
       "<Figure size 432x288 with 1 Axes>"
      ]
     },
     "metadata": {
      "needs_background": "light"
     },
     "output_type": "display_data"
    },
    {
     "data": {
      "image/png": "[encoded data removed]",
      "text/plain": [
       "<Figure size 432x288 with 1 Axes>"
      ]
     },
     "metadata": {
      "needs_background": "light"
     },
     "output_type": "display_data"
    },
    {
     "data": {
      "image/png": "[encoded data removed]",
      "text/plain": [
       "<Figure size 432x288 with 1 Axes>"
      ]
     },
     "metadata": {
      "needs_background": "light"
     },
     "output_type": "display_data"
    }
   ],
   "source": [
    "## relationship with target variable\n",
    "\n",
    "for feature in cat_features:\n",
    "    data = df.copy()\n",
    "    \n",
    "    data.groupby(feature)['CO2 Emissions(g/km)'].median().plot.bar()\n",
    "    plt.xlabel(feature)\n",
    "    plt.ylabel('emission')\n",
    "    plt.show()"
   ]
  },
  {
   "cell_type": "markdown",
   "id": "national-valley",
   "metadata": {
    "papermill": {
     "duration": 0.064741,
     "end_time": "2021-07-07T10:41:31.649186",
     "exception": false,
     "start_time": "2021-07-07T10:41:31.584445",
     "status": "completed"
    },
    "tags": []
   },
   "source": [
    "##### Observations:\n",
    "1. Bugatti has the highest emission\n",
    "2. Vans (Cargo and Passenger) have the highest emission\n",
    "3. AM5 engines have relatively lowest emission\n",
    "4. E > Z > D > X > N fuel type emission rate"
   ]
  },
  {
   "cell_type": "markdown",
   "id": "celtic-quest",
   "metadata": {
    "papermill": {
     "duration": 0.064429,
     "end_time": "2021-07-07T10:41:31.779205",
     "exception": false,
     "start_time": "2021-07-07T10:41:31.714776",
     "status": "completed"
    },
    "tags": []
   },
   "source": [
    "# Feature Engineering"
   ]
  },
  {
   "cell_type": "code",
   "execution_count": 16,
   "id": "dependent-occasion",
   "metadata": {
    "execution": {
     "iopub.execute_input": "2021-07-07T10:41:31.920125Z",
     "iopub.status.busy": "2021-07-07T10:41:31.913155Z",
     "iopub.status.idle": "2021-07-07T10:41:31.931381Z",
     "shell.execute_reply": "2021-07-07T10:41:31.930731Z",
     "shell.execute_reply.started": "2021-07-07T10:39:49.389288Z"
    },
    "papermill": {
     "duration": 0.087826,
     "end_time": "2021-07-07T10:41:31.931524",
     "exception": false,
     "start_time": "2021-07-07T10:41:31.843698",
     "status": "completed"
    },
    "tags": []
   },
   "outputs": [
    {
     "data": {
      "text/html": [
       "<div>\n",
       "<style scoped>\n",
       "    .dataframe tbody tr th:only-of-type {\n",
       "        vertical-align: middle;\n",
       "    }\n",
       "\n",
       "    .dataframe tbody tr th {\n",
       "        vertical-align: top;\n",
       "    }\n",
       "\n",
       "    .dataframe thead th {\n",
       "        text-align: right;\n",
       "    }\n",
       "</style>\n",
       "<table border=\"1\" class=\"dataframe\">\n",
       "  <thead>\n",
       "    <tr style=\"text-align: right;\">\n",
       "      <th></th>\n",
       "      <th>Make</th>\n",
       "      <th>Model</th>\n",
       "      <th>Vehicle Class</th>\n",
       "      <th>Engine Size(L)</th>\n",
       "      <th>Cylinders</th>\n",
       "      <th>Transmission</th>\n",
       "      <th>Fuel Type</th>\n",
       "      <th>Fuel Consumption City (L/100 km)</th>\n",
       "      <th>Fuel Consumption Hwy (L/100 km)</th>\n",
       "      <th>Fuel Consumption Comb (L/100 km)</th>\n",
       "      <th>Fuel Consumption Comb (mpg)</th>\n",
       "      <th>CO2 Emissions(g/km)</th>\n",
       "    </tr>\n",
       "  </thead>\n",
       "  <tbody>\n",
       "    <tr>\n",
       "      <th>0</th>\n",
       "      <td>ACURA</td>\n",
       "      <td>ILX</td>\n",
       "      <td>COMPACT</td>\n",
       "      <td>2.0</td>\n",
       "      <td>4</td>\n",
       "      <td>AS5</td>\n",
       "      <td>Z</td>\n",
       "      <td>9.9</td>\n",
       "      <td>6.7</td>\n",
       "      <td>8.5</td>\n",
       "      <td>33</td>\n",
       "      <td>196</td>\n",
       "    </tr>\n",
       "    <tr>\n",
       "      <th>1</th>\n",
       "      <td>ACURA</td>\n",
       "      <td>ILX</td>\n",
       "      <td>COMPACT</td>\n",
       "      <td>2.4</td>\n",
       "      <td>4</td>\n",
       "      <td>M6</td>\n",
       "      <td>Z</td>\n",
       "      <td>11.2</td>\n",
       "      <td>7.7</td>\n",
       "      <td>9.6</td>\n",
       "      <td>29</td>\n",
       "      <td>221</td>\n",
       "    </tr>\n",
       "    <tr>\n",
       "      <th>2</th>\n",
       "      <td>ACURA</td>\n",
       "      <td>ILX HYBRID</td>\n",
       "      <td>COMPACT</td>\n",
       "      <td>1.5</td>\n",
       "      <td>4</td>\n",
       "      <td>AV7</td>\n",
       "      <td>Z</td>\n",
       "      <td>6.0</td>\n",
       "      <td>5.8</td>\n",
       "      <td>5.9</td>\n",
       "      <td>48</td>\n",
       "      <td>136</td>\n",
       "    </tr>\n",
       "    <tr>\n",
       "      <th>3</th>\n",
       "      <td>ACURA</td>\n",
       "      <td>MDX 4WD</td>\n",
       "      <td>SUV - SMALL</td>\n",
       "      <td>3.5</td>\n",
       "      <td>6</td>\n",
       "      <td>AS6</td>\n",
       "      <td>Z</td>\n",
       "      <td>12.7</td>\n",
       "      <td>9.1</td>\n",
       "      <td>11.1</td>\n",
       "      <td>25</td>\n",
       "      <td>255</td>\n",
       "    </tr>\n",
       "    <tr>\n",
       "      <th>4</th>\n",
       "      <td>ACURA</td>\n",
       "      <td>RDX AWD</td>\n",
       "      <td>SUV - SMALL</td>\n",
       "      <td>3.5</td>\n",
       "      <td>6</td>\n",
       "      <td>AS6</td>\n",
       "      <td>Z</td>\n",
       "      <td>12.1</td>\n",
       "      <td>8.7</td>\n",
       "      <td>10.6</td>\n",
       "      <td>27</td>\n",
       "      <td>244</td>\n",
       "    </tr>\n",
       "  </tbody>\n",
       "</table>\n",
       "</div>"
      ],
      "text/plain": [
       "    Make       Model Vehicle Class  Engine Size(L)  Cylinders Transmission  \\\n",
       "0  ACURA         ILX       COMPACT             2.0          4          AS5   \n",
       "1  ACURA         ILX       COMPACT             2.4          4           M6   \n",
       "2  ACURA  ILX HYBRID       COMPACT             1.5          4          AV7   \n",
       "3  ACURA     MDX 4WD   SUV - SMALL             3.5          6          AS6   \n",
       "4  ACURA     RDX AWD   SUV - SMALL             3.5          6          AS6   \n",
       "\n",
       "  Fuel Type  Fuel Consumption City (L/100 km)  \\\n",
       "0         Z                               9.9   \n",
       "1         Z                              11.2   \n",
       "2         Z                               6.0   \n",
       "3         Z                              12.7   \n",
       "4         Z                              12.1   \n",
       "\n",
       "   Fuel Consumption Hwy (L/100 km)  Fuel Consumption Comb (L/100 km)  \\\n",
       "0                              6.7                               8.5   \n",
       "1                              7.7                               9.6   \n",
       "2                              5.8                               5.9   \n",
       "3                              9.1                              11.1   \n",
       "4                              8.7                              10.6   \n",
       "\n",
       "   Fuel Consumption Comb (mpg)  CO2 Emissions(g/km)  \n",
       "0                           33                  196  \n",
       "1                           29                  221  \n",
       "2                           48                  136  \n",
       "3                           25                  255  \n",
       "4                           27                  244  "
      ]
     },
     "execution_count": 16,
     "metadata": {},
     "output_type": "execute_result"
    }
   ],
   "source": [
    "dataset = df.copy()\n",
    "dataset.head()"
   ]
  },
  {
   "cell_type": "markdown",
   "id": "black-awareness",
   "metadata": {
    "papermill": {
     "duration": 0.070257,
     "end_time": "2021-07-07T10:41:32.067761",
     "exception": false,
     "start_time": "2021-07-07T10:41:31.997504",
     "status": "completed"
    },
    "tags": []
   },
   "source": [
    "## Transformation of Continuous Values"
   ]
  },
  {
   "cell_type": "code",
   "execution_count": 17,
   "id": "rubber-tribute",
   "metadata": {
    "execution": {
     "iopub.execute_input": "2021-07-07T10:41:32.205205Z",
     "iopub.status.busy": "2021-07-07T10:41:32.204521Z",
     "iopub.status.idle": "2021-07-07T10:41:32.209955Z",
     "shell.execute_reply": "2021-07-07T10:41:32.209320Z",
     "shell.execute_reply.started": "2021-07-07T10:39:49.409790Z"
    },
    "papermill": {
     "duration": 0.076908,
     "end_time": "2021-07-07T10:41:32.210124",
     "exception": false,
     "start_time": "2021-07-07T10:41:32.133216",
     "status": "completed"
    },
    "tags": []
   },
   "outputs": [],
   "source": [
    "for feature in continuous_features:\n",
    "    dataset[feature] = np.log(dataset[feature])"
   ]
  },
  {
   "cell_type": "markdown",
   "id": "minimal-incident",
   "metadata": {
    "papermill": {
     "duration": 0.065702,
     "end_time": "2021-07-07T10:41:32.342337",
     "exception": false,
     "start_time": "2021-07-07T10:41:32.276635",
     "status": "completed"
    },
    "tags": []
   },
   "source": [
    "## Handling rare Categorical Features"
   ]
  },
  {
   "cell_type": "markdown",
   "id": "varying-flesh",
   "metadata": {
    "papermill": {
     "duration": 0.064511,
     "end_time": "2021-07-07T10:41:32.471242",
     "exception": false,
     "start_time": "2021-07-07T10:41:32.406731",
     "status": "completed"
    },
    "tags": []
   },
   "source": [
    "We cannot classify 'Make' or 'Transmission' as there are more categories in it and they have a relationship with Emission. There are not enough rare variables in the other categories that the need to declare them explicitly should arise"
   ]
  },
  {
   "cell_type": "markdown",
   "id": "photographic-millennium",
   "metadata": {
    "papermill": {
     "duration": 0.065626,
     "end_time": "2021-07-07T10:41:32.602647",
     "exception": false,
     "start_time": "2021-07-07T10:41:32.537021",
     "status": "completed"
    },
    "tags": []
   },
   "source": [
    "### Converting Categorical features to Numerical features"
   ]
  },
  {
   "cell_type": "markdown",
   "id": "thick-invasion",
   "metadata": {
    "papermill": {
     "duration": 0.067548,
     "end_time": "2021-07-07T10:41:32.735720",
     "exception": false,
     "start_time": "2021-07-07T10:41:32.668172",
     "status": "completed"
    },
    "tags": []
   },
   "source": [
    "Since each categorical feature has a strong relationship with Emission we should use ordinal encoding\n",
    "\n",
    "We will not convert 'Model' as we are dropping the feature later"
   ]
  },
  {
   "cell_type": "code",
   "execution_count": 18,
   "id": "dynamic-scheduling",
   "metadata": {
    "execution": {
     "iopub.execute_input": "2021-07-07T10:41:32.880133Z",
     "iopub.status.busy": "2021-07-07T10:41:32.874768Z",
     "iopub.status.idle": "2021-07-07T10:41:32.894163Z",
     "shell.execute_reply": "2021-07-07T10:41:32.893440Z",
     "shell.execute_reply.started": "2021-07-07T10:39:49.420646Z"
    },
    "papermill": {
     "duration": 0.092095,
     "end_time": "2021-07-07T10:41:32.894305",
     "exception": false,
     "start_time": "2021-07-07T10:41:32.802210",
     "status": "completed"
    },
    "tags": []
   },
   "outputs": [],
   "source": [
    "for feature in cat_features:\n",
    "    ordinal_labels = dataset.groupby(feature)['CO2 Emissions(g/km)'].max().sort_values().index\n",
    "    ordinal_dict = {k:i for i, k in enumerate(ordinal_labels, 0)}\n",
    "    dataset[feature] = data[feature].map(ordinal_dict)"
   ]
  },
  {
   "cell_type": "code",
   "execution_count": 19,
   "id": "foster-found",
   "metadata": {
    "execution": {
     "iopub.execute_input": "2021-07-07T10:41:33.031372Z",
     "iopub.status.busy": "2021-07-07T10:41:33.030615Z",
     "iopub.status.idle": "2021-07-07T10:41:33.049895Z",
     "shell.execute_reply": "2021-07-07T10:41:33.049245Z",
     "shell.execute_reply.started": "2021-07-07T10:39:49.444952Z"
    },
    "papermill": {
     "duration": 0.089628,
     "end_time": "2021-07-07T10:41:33.050035",
     "exception": false,
     "start_time": "2021-07-07T10:41:32.960407",
     "status": "completed"
    },
    "tags": []
   },
   "outputs": [
    {
     "data": {
      "text/html": [
       "<div>\n",
       "<style scoped>\n",
       "    .dataframe tbody tr th:only-of-type {\n",
       "        vertical-align: middle;\n",
       "    }\n",
       "\n",
       "    .dataframe tbody tr th {\n",
       "        vertical-align: top;\n",
       "    }\n",
       "\n",
       "    .dataframe thead th {\n",
       "        text-align: right;\n",
       "    }\n",
       "</style>\n",
       "<table border=\"1\" class=\"dataframe\">\n",
       "  <thead>\n",
       "    <tr style=\"text-align: right;\">\n",
       "      <th></th>\n",
       "      <th>Make</th>\n",
       "      <th>Vehicle Class</th>\n",
       "      <th>Engine Size(L)</th>\n",
       "      <th>Cylinders</th>\n",
       "      <th>Transmission</th>\n",
       "      <th>Fuel Type</th>\n",
       "      <th>Fuel Consumption City (L/100 km)</th>\n",
       "      <th>Fuel Consumption Hwy (L/100 km)</th>\n",
       "      <th>Fuel Consumption Comb (L/100 km)</th>\n",
       "      <th>Fuel Consumption Comb (mpg)</th>\n",
       "      <th>CO2 Emissions(g/km)</th>\n",
       "    </tr>\n",
       "  </thead>\n",
       "  <tbody>\n",
       "    <tr>\n",
       "      <th>0</th>\n",
       "      <td>4</td>\n",
       "      <td>9</td>\n",
       "      <td>0.693147</td>\n",
       "      <td>4</td>\n",
       "      <td>11</td>\n",
       "      <td>4</td>\n",
       "      <td>2.292535</td>\n",
       "      <td>1.902108</td>\n",
       "      <td>2.140066</td>\n",
       "      <td>3.496508</td>\n",
       "      <td>5.278115</td>\n",
       "    </tr>\n",
       "    <tr>\n",
       "      <th>1</th>\n",
       "      <td>4</td>\n",
       "      <td>9</td>\n",
       "      <td>0.875469</td>\n",
       "      <td>4</td>\n",
       "      <td>16</td>\n",
       "      <td>4</td>\n",
       "      <td>2.415914</td>\n",
       "      <td>2.041220</td>\n",
       "      <td>2.261763</td>\n",
       "      <td>3.367296</td>\n",
       "      <td>5.398163</td>\n",
       "    </tr>\n",
       "    <tr>\n",
       "      <th>2</th>\n",
       "      <td>4</td>\n",
       "      <td>9</td>\n",
       "      <td>0.405465</td>\n",
       "      <td>4</td>\n",
       "      <td>4</td>\n",
       "      <td>4</td>\n",
       "      <td>1.791759</td>\n",
       "      <td>1.757858</td>\n",
       "      <td>1.774952</td>\n",
       "      <td>3.871201</td>\n",
       "      <td>4.912655</td>\n",
       "    </tr>\n",
       "    <tr>\n",
       "      <th>3</th>\n",
       "      <td>4</td>\n",
       "      <td>3</td>\n",
       "      <td>1.252763</td>\n",
       "      <td>6</td>\n",
       "      <td>18</td>\n",
       "      <td>4</td>\n",
       "      <td>2.541602</td>\n",
       "      <td>2.208274</td>\n",
       "      <td>2.406945</td>\n",
       "      <td>3.218876</td>\n",
       "      <td>5.541264</td>\n",
       "    </tr>\n",
       "    <tr>\n",
       "      <th>4</th>\n",
       "      <td>4</td>\n",
       "      <td>3</td>\n",
       "      <td>1.252763</td>\n",
       "      <td>6</td>\n",
       "      <td>18</td>\n",
       "      <td>4</td>\n",
       "      <td>2.493205</td>\n",
       "      <td>2.163323</td>\n",
       "      <td>2.360854</td>\n",
       "      <td>3.295837</td>\n",
       "      <td>5.497168</td>\n",
       "    </tr>\n",
       "  </tbody>\n",
       "</table>\n",
       "</div>"
      ],
      "text/plain": [
       "   Make  Vehicle Class  Engine Size(L)  Cylinders  Transmission  Fuel Type  \\\n",
       "0     4              9        0.693147          4            11          4   \n",
       "1     4              9        0.875469          4            16          4   \n",
       "2     4              9        0.405465          4             4          4   \n",
       "3     4              3        1.252763          6            18          4   \n",
       "4     4              3        1.252763          6            18          4   \n",
       "\n",
       "   Fuel Consumption City (L/100 km)  Fuel Consumption Hwy (L/100 km)  \\\n",
       "0                          2.292535                         1.902108   \n",
       "1                          2.415914                         2.041220   \n",
       "2                          1.791759                         1.757858   \n",
       "3                          2.541602                         2.208274   \n",
       "4                          2.493205                         2.163323   \n",
       "\n",
       "   Fuel Consumption Comb (L/100 km)  Fuel Consumption Comb (mpg)  \\\n",
       "0                          2.140066                     3.496508   \n",
       "1                          2.261763                     3.367296   \n",
       "2                          1.774952                     3.871201   \n",
       "3                          2.406945                     3.218876   \n",
       "4                          2.360854                     3.295837   \n",
       "\n",
       "   CO2 Emissions(g/km)  \n",
       "0             5.278115  \n",
       "1             5.398163  \n",
       "2             4.912655  \n",
       "3             5.541264  \n",
       "4             5.497168  "
      ]
     },
     "execution_count": 19,
     "metadata": {},
     "output_type": "execute_result"
    }
   ],
   "source": [
    "dataset.drop(['Model'], axis = 1, inplace = True)\n",
    "dataset.head()"
   ]
  },
  {
   "cell_type": "code",
   "execution_count": 20,
   "id": "geographic-helen",
   "metadata": {
    "execution": {
     "iopub.execute_input": "2021-07-07T10:41:33.189023Z",
     "iopub.status.busy": "2021-07-07T10:41:33.188389Z",
     "iopub.status.idle": "2021-07-07T10:41:33.298838Z",
     "shell.execute_reply": "2021-07-07T10:41:33.299397Z",
     "shell.execute_reply.started": "2021-07-07T10:39:49.464382Z"
    },
    "papermill": {
     "duration": 0.182235,
     "end_time": "2021-07-07T10:41:33.299570",
     "exception": false,
     "start_time": "2021-07-07T10:41:33.117335",
     "status": "completed"
    },
    "tags": []
   },
   "outputs": [],
   "source": [
    "dataset.to_csv('processed_data.csv', index = False)"
   ]
  },
  {
   "cell_type": "markdown",
   "id": "animal-probability",
   "metadata": {
    "papermill": {
     "duration": 0.065628,
     "end_time": "2021-07-07T10:41:33.431250",
     "exception": false,
     "start_time": "2021-07-07T10:41:33.365622",
     "status": "completed"
    },
    "tags": []
   },
   "source": [
    "# Feature Selection"
   ]
  },
  {
   "cell_type": "code",
   "execution_count": 21,
   "id": "hazardous-stress",
   "metadata": {
    "execution": {
     "iopub.execute_input": "2021-07-07T10:41:33.567977Z",
     "iopub.status.busy": "2021-07-07T10:41:33.567394Z",
     "iopub.status.idle": "2021-07-07T10:41:33.597453Z",
     "shell.execute_reply": "2021-07-07T10:41:33.597939Z",
     "shell.execute_reply.started": "2021-07-07T10:39:49.577030Z"
    },
    "papermill": {
     "duration": 0.101337,
     "end_time": "2021-07-07T10:41:33.598125",
     "exception": false,
     "start_time": "2021-07-07T10:41:33.496788",
     "status": "completed"
    },
    "tags": []
   },
   "outputs": [
    {
     "data": {
      "text/html": [
       "<div>\n",
       "<style scoped>\n",
       "    .dataframe tbody tr th:only-of-type {\n",
       "        vertical-align: middle;\n",
       "    }\n",
       "\n",
       "    .dataframe tbody tr th {\n",
       "        vertical-align: top;\n",
       "    }\n",
       "\n",
       "    .dataframe thead th {\n",
       "        text-align: right;\n",
       "    }\n",
       "</style>\n",
       "<table border=\"1\" class=\"dataframe\">\n",
       "  <thead>\n",
       "    <tr style=\"text-align: right;\">\n",
       "      <th></th>\n",
       "      <th>Make</th>\n",
       "      <th>Vehicle Class</th>\n",
       "      <th>Engine Size(L)</th>\n",
       "      <th>Cylinders</th>\n",
       "      <th>Transmission</th>\n",
       "      <th>Fuel Type</th>\n",
       "      <th>Fuel Consumption City (L/100 km)</th>\n",
       "      <th>Fuel Consumption Hwy (L/100 km)</th>\n",
       "      <th>Fuel Consumption Comb (L/100 km)</th>\n",
       "      <th>Fuel Consumption Comb (mpg)</th>\n",
       "      <th>CO2 Emissions(g/km)</th>\n",
       "    </tr>\n",
       "  </thead>\n",
       "  <tbody>\n",
       "    <tr>\n",
       "      <th>0</th>\n",
       "      <td>4</td>\n",
       "      <td>9</td>\n",
       "      <td>0.693147</td>\n",
       "      <td>4</td>\n",
       "      <td>11</td>\n",
       "      <td>4</td>\n",
       "      <td>2.292535</td>\n",
       "      <td>1.902108</td>\n",
       "      <td>2.140066</td>\n",
       "      <td>3.496508</td>\n",
       "      <td>5.278115</td>\n",
       "    </tr>\n",
       "    <tr>\n",
       "      <th>1</th>\n",
       "      <td>4</td>\n",
       "      <td>9</td>\n",
       "      <td>0.875469</td>\n",
       "      <td>4</td>\n",
       "      <td>16</td>\n",
       "      <td>4</td>\n",
       "      <td>2.415914</td>\n",
       "      <td>2.041220</td>\n",
       "      <td>2.261763</td>\n",
       "      <td>3.367296</td>\n",
       "      <td>5.398163</td>\n",
       "    </tr>\n",
       "    <tr>\n",
       "      <th>2</th>\n",
       "      <td>4</td>\n",
       "      <td>9</td>\n",
       "      <td>0.405465</td>\n",
       "      <td>4</td>\n",
       "      <td>4</td>\n",
       "      <td>4</td>\n",
       "      <td>1.791759</td>\n",
       "      <td>1.757858</td>\n",
       "      <td>1.774952</td>\n",
       "      <td>3.871201</td>\n",
       "      <td>4.912655</td>\n",
       "    </tr>\n",
       "    <tr>\n",
       "      <th>3</th>\n",
       "      <td>4</td>\n",
       "      <td>3</td>\n",
       "      <td>1.252763</td>\n",
       "      <td>6</td>\n",
       "      <td>18</td>\n",
       "      <td>4</td>\n",
       "      <td>2.541602</td>\n",
       "      <td>2.208274</td>\n",
       "      <td>2.406945</td>\n",
       "      <td>3.218876</td>\n",
       "      <td>5.541264</td>\n",
       "    </tr>\n",
       "    <tr>\n",
       "      <th>4</th>\n",
       "      <td>4</td>\n",
       "      <td>3</td>\n",
       "      <td>1.252763</td>\n",
       "      <td>6</td>\n",
       "      <td>18</td>\n",
       "      <td>4</td>\n",
       "      <td>2.493205</td>\n",
       "      <td>2.163323</td>\n",
       "      <td>2.360854</td>\n",
       "      <td>3.295837</td>\n",
       "      <td>5.497168</td>\n",
       "    </tr>\n",
       "  </tbody>\n",
       "</table>\n",
       "</div>"
      ],
      "text/plain": [
       "   Make  Vehicle Class  Engine Size(L)  Cylinders  Transmission  Fuel Type  \\\n",
       "0     4              9        0.693147          4            11          4   \n",
       "1     4              9        0.875469          4            16          4   \n",
       "2     4              9        0.405465          4             4          4   \n",
       "3     4              3        1.252763          6            18          4   \n",
       "4     4              3        1.252763          6            18          4   \n",
       "\n",
       "   Fuel Consumption City (L/100 km)  Fuel Consumption Hwy (L/100 km)  \\\n",
       "0                          2.292535                         1.902108   \n",
       "1                          2.415914                         2.041220   \n",
       "2                          1.791759                         1.757858   \n",
       "3                          2.541602                         2.208274   \n",
       "4                          2.493205                         2.163323   \n",
       "\n",
       "   Fuel Consumption Comb (L/100 km)  Fuel Consumption Comb (mpg)  \\\n",
       "0                          2.140066                     3.496508   \n",
       "1                          2.261763                     3.367296   \n",
       "2                          1.774952                     3.871201   \n",
       "3                          2.406945                     3.218876   \n",
       "4                          2.360854                     3.295837   \n",
       "\n",
       "   CO2 Emissions(g/km)  \n",
       "0             5.278115  \n",
       "1             5.398163  \n",
       "2             4.912655  \n",
       "3             5.541264  \n",
       "4             5.497168  "
      ]
     },
     "execution_count": 21,
     "metadata": {},
     "output_type": "execute_result"
    }
   ],
   "source": [
    "df = pd.read_csv('processed_data.csv')\n",
    "df.head()"
   ]
  },
  {
   "cell_type": "code",
   "execution_count": 22,
   "id": "laughing-alias",
   "metadata": {
    "execution": {
     "iopub.execute_input": "2021-07-07T10:41:33.734126Z",
     "iopub.status.busy": "2021-07-07T10:41:33.733514Z",
     "iopub.status.idle": "2021-07-07T10:41:33.739750Z",
     "shell.execute_reply": "2021-07-07T10:41:33.739121Z",
     "shell.execute_reply.started": "2021-07-07T10:39:49.610513Z"
    },
    "papermill": {
     "duration": 0.075282,
     "end_time": "2021-07-07T10:41:33.739895",
     "exception": false,
     "start_time": "2021-07-07T10:41:33.664613",
     "status": "completed"
    },
    "tags": []
   },
   "outputs": [],
   "source": [
    "X = df.drop('CO2 Emissions(g/km)', axis = 1)\n",
    "y = df.iloc[:, -1]"
   ]
  },
  {
   "cell_type": "markdown",
   "id": "banned-giving",
   "metadata": {
    "papermill": {
     "duration": 0.081329,
     "end_time": "2021-07-07T10:41:33.902583",
     "exception": false,
     "start_time": "2021-07-07T10:41:33.821254",
     "status": "completed"
    },
    "tags": []
   },
   "source": [
    "## Dropping with correlation"
   ]
  },
  {
   "cell_type": "code",
   "execution_count": 23,
   "id": "parliamentary-telling",
   "metadata": {
    "execution": {
     "iopub.execute_input": "2021-07-07T10:41:34.049693Z",
     "iopub.status.busy": "2021-07-07T10:41:34.049001Z",
     "iopub.status.idle": "2021-07-07T10:41:34.772141Z",
     "shell.execute_reply": "2021-07-07T10:41:34.771600Z",
     "shell.execute_reply.started": "2021-07-07T10:39:49.617325Z"
    },
    "papermill": {
     "duration": 0.798131,
     "end_time": "2021-07-07T10:41:34.772282",
     "exception": false,
     "start_time": "2021-07-07T10:41:33.974151",
     "status": "completed"
    },
    "tags": []
   },
   "outputs": [
    {
     "data": {
      "image/png": "[encoded data removed]",
      "text/plain": [
       "<Figure size 432x288 with 2 Axes>"
      ]
     },
     "metadata": {
      "needs_background": "light"
     },
     "output_type": "display_data"
    }
   ],
   "source": [
    "cor = X.corr()\n",
    "sns.heatmap(cor, annot = True, cmap = plt.cm.CMRmap_r)\n",
    "plt.show()"
   ]
  },
  {
   "cell_type": "markdown",
   "id": "healthy-cleveland",
   "metadata": {
    "papermill": {
     "duration": 0.067105,
     "end_time": "2021-07-07T10:41:34.906941",
     "exception": false,
     "start_time": "2021-07-07T10:41:34.839836",
     "status": "completed"
    },
    "tags": []
   },
   "source": [
    "We can drop columns with correlation > 0.85"
   ]
  },
  {
   "cell_type": "code",
   "execution_count": 24,
   "id": "loaded-moses",
   "metadata": {
    "execution": {
     "iopub.execute_input": "2021-07-07T10:41:35.054057Z",
     "iopub.status.busy": "2021-07-07T10:41:35.052977Z",
     "iopub.status.idle": "2021-07-07T10:41:35.055894Z",
     "shell.execute_reply": "2021-07-07T10:41:35.056765Z",
     "shell.execute_reply.started": "2021-07-07T10:39:50.514986Z"
    },
    "papermill": {
     "duration": 0.082321,
     "end_time": "2021-07-07T10:41:35.056999",
     "exception": false,
     "start_time": "2021-07-07T10:41:34.974678",
     "status": "completed"
    },
    "tags": []
   },
   "outputs": [],
   "source": [
    "X = X.drop(['Cylinders', 'Fuel Consumption Hwy (L/100 km)', 'Fuel Consumption Comb (L/100 km)'], axis = 1)"
   ]
  },
  {
   "cell_type": "markdown",
   "id": "formed-integral",
   "metadata": {
    "papermill": {
     "duration": 0.072944,
     "end_time": "2021-07-07T10:41:35.209697",
     "exception": false,
     "start_time": "2021-07-07T10:41:35.136753",
     "status": "completed"
    },
    "tags": []
   },
   "source": [
    "## Feature Scaling"
   ]
  },
  {
   "cell_type": "code",
   "execution_count": 25,
   "id": "trying-writing",
   "metadata": {
    "execution": {
     "iopub.execute_input": "2021-07-07T10:41:35.347113Z",
     "iopub.status.busy": "2021-07-07T10:41:35.346443Z",
     "iopub.status.idle": "2021-07-07T10:41:35.352912Z",
     "shell.execute_reply": "2021-07-07T10:41:35.353472Z",
     "shell.execute_reply.started": "2021-07-07T10:39:50.522815Z"
    },
    "papermill": {
     "duration": 0.077137,
     "end_time": "2021-07-07T10:41:35.353633",
     "exception": false,
     "start_time": "2021-07-07T10:41:35.276496",
     "status": "completed"
    },
    "tags": []
   },
   "outputs": [],
   "source": [
    "X_train, X_test, y_train, y_test = train_test_split(X, y, test_size = 0.2, random_state = 0)"
   ]
  },
  {
   "cell_type": "code",
   "execution_count": 26,
   "id": "sudden-provision",
   "metadata": {
    "execution": {
     "iopub.execute_input": "2021-07-07T10:41:35.490924Z",
     "iopub.status.busy": "2021-07-07T10:41:35.490357Z",
     "iopub.status.idle": "2021-07-07T10:41:35.500736Z",
     "shell.execute_reply": "2021-07-07T10:41:35.500181Z",
     "shell.execute_reply.started": "2021-07-07T10:39:50.536075Z"
    },
    "papermill": {
     "duration": 0.080053,
     "end_time": "2021-07-07T10:41:35.500900",
     "exception": false,
     "start_time": "2021-07-07T10:41:35.420847",
     "status": "completed"
    },
    "tags": []
   },
   "outputs": [
    {
     "data": {
      "text/plain": [
       "MinMaxScaler()"
      ]
     },
     "execution_count": 26,
     "metadata": {},
     "output_type": "execute_result"
    }
   ],
   "source": [
    "scaler = MinMaxScaler()\n",
    "scaler.fit(X_train)"
   ]
  },
  {
   "cell_type": "code",
   "execution_count": 27,
   "id": "imposed-survival",
   "metadata": {
    "execution": {
     "iopub.execute_input": "2021-07-07T10:41:35.644225Z",
     "iopub.status.busy": "2021-07-07T10:41:35.643638Z",
     "iopub.status.idle": "2021-07-07T10:41:35.648393Z",
     "shell.execute_reply": "2021-07-07T10:41:35.648875Z",
     "shell.execute_reply.started": "2021-07-07T10:39:50.550308Z"
    },
    "papermill": {
     "duration": 0.078894,
     "end_time": "2021-07-07T10:41:35.649024",
     "exception": false,
     "start_time": "2021-07-07T10:41:35.570130",
     "status": "completed"
    },
    "tags": []
   },
   "outputs": [],
   "source": [
    "X_train_scaled = scaler.transform(X_train)\n",
    "X_test_scaled = scaler.transform(X_test)"
   ]
  },
  {
   "cell_type": "markdown",
   "id": "alleged-afghanistan",
   "metadata": {
    "papermill": {
     "duration": 0.068525,
     "end_time": "2021-07-07T10:41:35.785880",
     "exception": false,
     "start_time": "2021-07-07T10:41:35.717355",
     "status": "completed"
    },
    "tags": []
   },
   "source": [
    "# Models"
   ]
  },
  {
   "cell_type": "markdown",
   "id": "critical-nebraska",
   "metadata": {
    "papermill": {
     "duration": 0.069457,
     "end_time": "2021-07-07T10:41:35.925536",
     "exception": false,
     "start_time": "2021-07-07T10:41:35.856079",
     "status": "completed"
    },
    "tags": []
   },
   "source": [
    "## Linear Regression"
   ]
  },
  {
   "cell_type": "code",
   "execution_count": 28,
   "id": "colonial-makeup",
   "metadata": {
    "execution": {
     "iopub.execute_input": "2021-07-07T10:41:36.088322Z",
     "iopub.status.busy": "2021-07-07T10:41:36.087609Z",
     "iopub.status.idle": "2021-07-07T10:41:36.108068Z",
     "shell.execute_reply": "2021-07-07T10:41:36.107544Z",
     "shell.execute_reply.started": "2021-07-07T10:39:50.566629Z"
    },
    "papermill": {
     "duration": 0.10897,
     "end_time": "2021-07-07T10:41:36.108207",
     "exception": false,
     "start_time": "2021-07-07T10:41:35.999237",
     "status": "completed"
    },
    "tags": []
   },
   "outputs": [
    {
     "data": {
      "text/plain": [
       "LinearRegression()"
      ]
     },
     "execution_count": 28,
     "metadata": {},
     "output_type": "execute_result"
    }
   ],
   "source": [
    "linear_regressor = LinearRegression()\n",
    "linear_regressor.fit(X_train_scaled, y_train)"
   ]
  },
  {
   "cell_type": "code",
   "execution_count": 29,
   "id": "lucky-ghana",
   "metadata": {
    "execution": {
     "iopub.execute_input": "2021-07-07T10:41:36.258268Z",
     "iopub.status.busy": "2021-07-07T10:41:36.257206Z",
     "iopub.status.idle": "2021-07-07T10:41:36.264836Z",
     "shell.execute_reply": "2021-07-07T10:41:36.265674Z",
     "shell.execute_reply.started": "2021-07-07T10:39:50.578944Z"
    },
    "papermill": {
     "duration": 0.087228,
     "end_time": "2021-07-07T10:41:36.265943",
     "exception": false,
     "start_time": "2021-07-07T10:41:36.178715",
     "status": "completed"
    },
    "tags": []
   },
   "outputs": [
    {
     "data": {
      "text/plain": [
       "0.9138368003133323"
      ]
     },
     "execution_count": 29,
     "metadata": {},
     "output_type": "execute_result"
    }
   ],
   "source": [
    "linear_regressor.score(X_test_scaled, y_test)"
   ]
  },
  {
   "cell_type": "markdown",
   "id": "northern-perspective",
   "metadata": {
    "papermill": {
     "duration": 0.068621,
     "end_time": "2021-07-07T10:41:36.451631",
     "exception": false,
     "start_time": "2021-07-07T10:41:36.383010",
     "status": "completed"
    },
    "tags": []
   },
   "source": [
    "### Cross Validation"
   ]
  },
  {
   "cell_type": "code",
   "execution_count": 30,
   "id": "structured-script",
   "metadata": {
    "execution": {
     "iopub.execute_input": "2021-07-07T10:41:36.595933Z",
     "iopub.status.busy": "2021-07-07T10:41:36.594930Z",
     "iopub.status.idle": "2021-07-07T10:41:36.617815Z",
     "shell.execute_reply": "2021-07-07T10:41:36.618598Z",
     "shell.execute_reply.started": "2021-07-07T10:39:50.604291Z"
    },
    "papermill": {
     "duration": 0.097809,
     "end_time": "2021-07-07T10:41:36.618842",
     "exception": false,
     "start_time": "2021-07-07T10:41:36.521033",
     "status": "completed"
    },
    "tags": []
   },
   "outputs": [
    {
     "name": "stdout",
     "output_type": "stream",
     "text": [
      "0.9210429957969073\n"
     ]
    }
   ],
   "source": [
    "scores = cross_val_score(linear_regressor, X_train_scaled, y_train, cv=5)\n",
    "print(np.mean(scores))"
   ]
  },
  {
   "cell_type": "markdown",
   "id": "missing-classroom",
   "metadata": {
    "papermill": {
     "duration": 0.07092,
     "end_time": "2021-07-07T10:41:36.764497",
     "exception": false,
     "start_time": "2021-07-07T10:41:36.693577",
     "status": "completed"
    },
    "tags": []
   },
   "source": [
    "## Ridge Regression"
   ]
  },
  {
   "cell_type": "code",
   "execution_count": 31,
   "id": "lined-admission",
   "metadata": {
    "execution": {
     "iopub.execute_input": "2021-07-07T10:41:36.910390Z",
     "iopub.status.busy": "2021-07-07T10:41:36.909699Z",
     "iopub.status.idle": "2021-07-07T10:41:36.919124Z",
     "shell.execute_reply": "2021-07-07T10:41:36.919627Z",
     "shell.execute_reply.started": "2021-07-07T10:39:50.666688Z"
    },
    "papermill": {
     "duration": 0.085445,
     "end_time": "2021-07-07T10:41:36.919785",
     "exception": false,
     "start_time": "2021-07-07T10:41:36.834340",
     "status": "completed"
    },
    "tags": []
   },
   "outputs": [
    {
     "data": {
      "text/plain": [
       "Ridge(alpha=1)"
      ]
     },
     "execution_count": 31,
     "metadata": {},
     "output_type": "execute_result"
    }
   ],
   "source": [
    "ridge_regressor = Ridge(alpha = 1)\n",
    "ridge_regressor.fit(X_train_scaled, y_train)"
   ]
  },
  {
   "cell_type": "code",
   "execution_count": 32,
   "id": "greek-confirmation",
   "metadata": {
    "execution": {
     "iopub.execute_input": "2021-07-07T10:41:37.066185Z",
     "iopub.status.busy": "2021-07-07T10:41:37.064899Z",
     "iopub.status.idle": "2021-07-07T10:41:37.072338Z",
     "shell.execute_reply": "2021-07-07T10:41:37.073249Z",
     "shell.execute_reply.started": "2021-07-07T10:39:50.687093Z"
    },
    "papermill": {
     "duration": 0.082804,
     "end_time": "2021-07-07T10:41:37.073492",
     "exception": false,
     "start_time": "2021-07-07T10:41:36.990688",
     "status": "completed"
    },
    "tags": []
   },
   "outputs": [
    {
     "data": {
      "text/plain": [
       "0.9135583253963253"
      ]
     },
     "execution_count": 32,
     "metadata": {},
     "output_type": "execute_result"
    }
   ],
   "source": [
    "ridge_regressor.score(X_test_scaled, y_test)"
   ]
  },
  {
   "cell_type": "markdown",
   "id": "voluntary-husband",
   "metadata": {
    "papermill": {
     "duration": 0.070159,
     "end_time": "2021-07-07T10:41:37.264517",
     "exception": false,
     "start_time": "2021-07-07T10:41:37.194358",
     "status": "completed"
    },
    "tags": []
   },
   "source": [
    "## Lasso Regression"
   ]
  },
  {
   "cell_type": "code",
   "execution_count": 33,
   "id": "forbidden-football",
   "metadata": {
    "execution": {
     "iopub.execute_input": "2021-07-07T10:41:37.414787Z",
     "iopub.status.busy": "2021-07-07T10:41:37.413620Z",
     "iopub.status.idle": "2021-07-07T10:41:37.431452Z",
     "shell.execute_reply": "2021-07-07T10:41:37.432466Z",
     "shell.execute_reply.started": "2021-07-07T10:39:50.702466Z"
    },
    "papermill": {
     "duration": 0.09691,
     "end_time": "2021-07-07T10:41:37.432727",
     "exception": false,
     "start_time": "2021-07-07T10:41:37.335817",
     "status": "completed"
    },
    "tags": []
   },
   "outputs": [
    {
     "data": {
      "text/plain": [
       "Lasso(alpha=0.005)"
      ]
     },
     "execution_count": 33,
     "metadata": {},
     "output_type": "execute_result"
    }
   ],
   "source": [
    "lasso_regr = Lasso(alpha = 0.005)\n",
    "lasso_regr.fit(X_train_scaled, y_train)"
   ]
  },
  {
   "cell_type": "code",
   "execution_count": 34,
   "id": "advised-armor",
   "metadata": {
    "execution": {
     "iopub.execute_input": "2021-07-07T10:41:37.631777Z",
     "iopub.status.busy": "2021-07-07T10:41:37.630559Z",
     "iopub.status.idle": "2021-07-07T10:41:37.635192Z",
     "shell.execute_reply": "2021-07-07T10:41:37.632683Z",
     "shell.execute_reply.started": "2021-07-07T10:39:50.766498Z"
    },
    "papermill": {
     "duration": 0.086021,
     "end_time": "2021-07-07T10:41:37.635386",
     "exception": false,
     "start_time": "2021-07-07T10:41:37.549365",
     "status": "completed"
    },
    "tags": []
   },
   "outputs": [
    {
     "data": {
      "text/plain": [
       "0.8794814001041217"
      ]
     },
     "execution_count": 34,
     "metadata": {},
     "output_type": "execute_result"
    }
   ],
   "source": [
    "lasso_regr.score(X_test_scaled, y_test)"
   ]
  },
  {
   "cell_type": "code",
   "execution_count": 35,
   "id": "supposed-investing",
   "metadata": {
    "execution": {
     "iopub.execute_input": "2021-07-07T10:41:37.832967Z",
     "iopub.status.busy": "2021-07-07T10:41:37.832210Z",
     "iopub.status.idle": "2021-07-07T10:41:37.835343Z",
     "shell.execute_reply": "2021-07-07T10:41:37.835844Z",
     "shell.execute_reply.started": "2021-07-07T10:39:50.783369Z"
    },
    "papermill": {
     "duration": 0.079903,
     "end_time": "2021-07-07T10:41:37.835994",
     "exception": false,
     "start_time": "2021-07-07T10:41:37.756091",
     "status": "completed"
    },
    "tags": []
   },
   "outputs": [
    {
     "data": {
      "text/plain": [
       "array([ 0.        , -0.        ,  0.2642909 ,  0.        ,  0.        ,\n",
       "        0.43125505, -0.61730127])"
      ]
     },
     "execution_count": 35,
     "metadata": {},
     "output_type": "execute_result"
    }
   ],
   "source": [
    "lasso_regr.coef_"
   ]
  },
  {
   "cell_type": "markdown",
   "id": "proof-gross",
   "metadata": {
    "papermill": {
     "duration": 0.071592,
     "end_time": "2021-07-07T10:41:37.978531",
     "exception": false,
     "start_time": "2021-07-07T10:41:37.906939",
     "status": "completed"
    },
    "tags": []
   },
   "source": [
    "## Random Forest Regression"
   ]
  },
  {
   "cell_type": "code",
   "execution_count": 36,
   "id": "cordless-taylor",
   "metadata": {
    "execution": {
     "iopub.execute_input": "2021-07-07T10:41:38.124161Z",
     "iopub.status.busy": "2021-07-07T10:41:38.123230Z",
     "iopub.status.idle": "2021-07-07T10:41:38.129857Z",
     "shell.execute_reply": "2021-07-07T10:41:38.130449Z",
     "shell.execute_reply.started": "2021-07-07T10:39:50.796261Z"
    },
    "papermill": {
     "duration": 0.081195,
     "end_time": "2021-07-07T10:41:38.130615",
     "exception": false,
     "start_time": "2021-07-07T10:41:38.049420",
     "status": "completed"
    },
    "tags": []
   },
   "outputs": [],
   "source": [
    "X_train, X_test, y_train, y_test = train_test_split(X, y, test_size = 0.2, random_state = 0)"
   ]
  },
  {
   "cell_type": "code",
   "execution_count": 37,
   "id": "bibliographic-addition",
   "metadata": {
    "execution": {
     "iopub.execute_input": "2021-07-07T10:41:38.277688Z",
     "iopub.status.busy": "2021-07-07T10:41:38.276737Z",
     "iopub.status.idle": "2021-07-07T10:41:39.578529Z",
     "shell.execute_reply": "2021-07-07T10:41:39.577979Z",
     "shell.execute_reply.started": "2021-07-07T10:39:50.813996Z"
    },
    "papermill": {
     "duration": 1.376521,
     "end_time": "2021-07-07T10:41:39.578670",
     "exception": false,
     "start_time": "2021-07-07T10:41:38.202149",
     "status": "completed"
    },
    "tags": []
   },
   "outputs": [
    {
     "data": {
      "text/plain": [
       "RandomForestRegressor()"
      ]
     },
     "execution_count": 37,
     "metadata": {},
     "output_type": "execute_result"
    }
   ],
   "source": [
    "regressor = RandomForestRegressor()\n",
    "\n",
    "regressor.fit(X_train, y_train)"
   ]
  },
  {
   "cell_type": "code",
   "execution_count": 38,
   "id": "welsh-updating",
   "metadata": {
    "execution": {
     "iopub.execute_input": "2021-07-07T10:41:39.730429Z",
     "iopub.status.busy": "2021-07-07T10:41:39.729375Z",
     "iopub.status.idle": "2021-07-07T10:41:39.774723Z",
     "shell.execute_reply": "2021-07-07T10:41:39.774203Z",
     "shell.execute_reply.started": "2021-07-07T10:39:52.132237Z"
    },
    "papermill": {
     "duration": 0.124351,
     "end_time": "2021-07-07T10:41:39.774851",
     "exception": false,
     "start_time": "2021-07-07T10:41:39.650500",
     "status": "completed"
    },
    "tags": []
   },
   "outputs": [
    {
     "data": {
      "text/plain": [
       "0.9940334925730352"
      ]
     },
     "execution_count": 38,
     "metadata": {},
     "output_type": "execute_result"
    }
   ],
   "source": [
    "regressor.score(X_test, y_test)"
   ]
  },
  {
   "cell_type": "code",
   "execution_count": null,
   "id": "f0380dec",
   "metadata": {},
   "outputs": [],
   "source": []
  },
  {
   "cell_type": "code",
   "execution_count": null,
   "id": "42b64f18",
   "metadata": {},
   "outputs": [],
   "source": []
  }
 ],
 "metadata": {
  "kernelspec": {
   "display_name": "Python 3 (ipykernel)",
   "language": "python",
   "name": "python3"
  },
  "language_info": {
   "codemirror_mode": {
    "name": "ipython",
    "version": 3
   },
   "file_extension": ".py",
   "mimetype": "text/x-python",
   "name": "python",
   "nbconvert_exporter": "python",
   "pygments_lexer": "ipython3",
   "version": "3.11.5"
  },
  "papermill": {
   "default_parameters": {},
   "duration": 25.485763,
   "end_time": "2021-07-07T10:41:40.558352",
   "environment_variables": {},
   "exception": null,
   "input_path": "__notebook__.ipynb",
   "output_path": "__notebook__.ipynb",
   "parameters": {},
   "start_time": "2021-07-07T10:41:15.072589",
   "version": "2.3.3"
  }
 },
 "nbformat": 4,
 "nbformat_minor": 5
}
